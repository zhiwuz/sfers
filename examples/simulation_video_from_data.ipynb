{
 "cells": [
  {
   "cell_type": "code",
   "execution_count": 1,
   "metadata": {},
   "outputs": [],
   "source": [
    "import numpy as np\n",
    "import os\n",
    "import glob\n",
    "import matplotlib\n",
    "import matplotlib.pyplot as plt\n",
    "from textwrap import wrap\n",
    "import cv2"
   ]
  },
  {
   "cell_type": "code",
   "execution_count": 2,
   "metadata": {},
   "outputs": [],
   "source": [
    "from sfers.robot_simulation.recorder import RobotShapeRecorderFromData"
   ]
  },
  {
   "cell_type": "code",
   "execution_count": 3,
   "metadata": {},
   "outputs": [],
   "source": [
    "foldername = 'SimpleWalker_ZZ7_FullFrictionalInchworm_N_5_m_3-PeriodDampingFrictionScan_09_11_2021_15_25'\n",
    "filename = 'SimpleWalker_ZZ7_FullFrictionalInchworm_ActuatorLength10.0cm_N_5_m_3_Period_0.07692307692307693s_DampingEta_0.0475_frictionlow_0.2_frictionhigh_3.5.npz'\n",
    "data_filename = foldername + '/' + filename\n",
    "movie_filename = os.path.splitext(data_filename)[0]+'.avi'"
   ]
  },
  {
   "cell_type": "code",
   "execution_count": 4,
   "metadata": {},
   "outputs": [],
   "source": [
    "recorder = RobotShapeRecorderFromData(data_filename=data_filename, \n",
    "                                      filename=movie_filename,\n",
    "                                      framerate=24,\n",
    "                                      real_time_limit=None)\n",
    "recorder.xlim = (-0.5, 55)\n",
    "\n",
    "recorder.ylim = (-0.1, 4.0)\n",
    "recorder.reset()"
   ]
  },
  {
   "cell_type": "code",
   "execution_count": 5,
   "metadata": {},
   "outputs": [],
   "source": [
    "data_timestep = recorder.dataTime[1] - recorder.dataTime[0]\n",
    "real_time_rate = 0.01\n",
    "framerate = 24\n",
    "record_intervals_in_steps = real_time_rate / (data_timestep * framerate)\n",
    "record_intervals_in_steps = int(record_intervals_in_steps)\n",
    "if record_intervals_in_steps < 1:\n",
    "    record_intervals_in_steps = 1"
   ]
  },
  {
   "cell_type": "code",
   "execution_count": 6,
   "metadata": {},
   "outputs": [],
   "source": [
    "recorder.framerate = framerate\n",
    "recorder.record_intervals_in_steps = record_intervals_in_steps"
   ]
  },
  {
   "cell_type": "code",
   "execution_count": 7,
   "metadata": {},
   "outputs": [],
   "source": [
    "# recorder.dataPositions[:, :, 2] = 0.86 * recorder.dataPositions[:, :, 2]"
   ]
  },
  {
   "cell_type": "code",
   "execution_count": 8,
   "metadata": {},
   "outputs": [],
   "source": [
    "matplotlib.rcParams.update({'font.size': 24})"
   ]
  },
  {
   "cell_type": "code",
   "execution_count": 9,
   "metadata": {
    "scrolled": false
   },
   "outputs": [
    {
     "name": "stdout",
     "output_type": "stream",
     "text": [
      "Step =  1601 .\n"
     ]
    }
   ],
   "source": [
    "recorder.run(color='b', equal_scale=True)"
   ]
  },
  {
   "cell_type": "code",
   "execution_count": 10,
   "metadata": {},
   "outputs": [],
   "source": [
    "recorder.close()"
   ]
  },
  {
   "cell_type": "code",
   "execution_count": 11,
   "metadata": {},
   "outputs": [
    {
     "data": {
      "text/plain": [
       "'SimpleWalker_ZZ7_FullFrictionalInchworm_N_5_m_3-PeriodDampingFrictionScan_09_11_2021_15_25/SimpleWalker_ZZ7_FullFrictionalInchworm_ActuatorLength10.0cm_N_5_m_3_Period_0.07692307692307693s_DampingEta_0.0475_frictionlow_0.2_frictionhigh_3.5.avi'"
      ]
     },
     "execution_count": 11,
     "metadata": {},
     "output_type": "execute_result"
    }
   ],
   "source": [
    "movie_filename"
   ]
  },
  {
   "cell_type": "code",
   "execution_count": 12,
   "metadata": {},
   "outputs": [
    {
     "data": {
      "text/plain": [
       "True"
      ]
     },
     "execution_count": 12,
     "metadata": {},
     "output_type": "execute_result"
    }
   ],
   "source": [
    "os.path.exists(movie_filename)"
   ]
  },
  {
   "cell_type": "code",
   "execution_count": null,
   "metadata": {},
   "outputs": [],
   "source": []
  }
 ],
 "metadata": {
  "kernelspec": {
   "display_name": "Python 3",
   "language": "python",
   "name": "python3"
  },
  "language_info": {
   "codemirror_mode": {
    "name": "ipython",
    "version": 3
   },
   "file_extension": ".py",
   "mimetype": "text/x-python",
   "name": "python",
   "nbconvert_exporter": "python",
   "pygments_lexer": "ipython3",
   "version": "3.6.9"
  }
 },
 "nbformat": 4,
 "nbformat_minor": 2
}